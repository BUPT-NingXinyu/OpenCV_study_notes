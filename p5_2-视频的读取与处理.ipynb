{
 "cells": [
  {
   "cell_type": "code",
   "execution_count": 1,
   "id": "91ede9a5-50d2-495a-bbf8-b64adbd3ac0e",
   "metadata": {},
   "outputs": [],
   "source": [
    "import cv2\n",
    "\n",
    "def cv_show(name, img):\n",
    "    cv2.imshow(name, img)\n",
    "    cv2.waitKey(0)\n",
    "    cv2.destroyAllWindows()"
   ]
  },
  {
   "cell_type": "code",
   "execution_count": 2,
   "id": "64f438f6-b84c-4879-b171-30478d93648d",
   "metadata": {},
   "outputs": [
    {
     "data": {
      "text/plain": [
       "(414, 500, 3)"
      ]
     },
     "execution_count": 2,
     "metadata": {},
     "output_type": "execute_result"
    }
   ],
   "source": [
    "img=cv2.imread('./image/P4_2_cat.jpg')\n",
    "img.shape"
   ]
  },
  {
   "cell_type": "code",
   "execution_count": 3,
   "id": "ecf89e24-9efe-4eee-8f81-c9f1a5138fd5",
   "metadata": {},
   "outputs": [
    {
     "data": {
      "text/plain": [
       "array([[153, 157, 162, ..., 174, 173, 172],\n",
       "       [119, 124, 129, ..., 173, 172, 171],\n",
       "       [120, 124, 130, ..., 172, 171, 170],\n",
       "       ...,\n",
       "       [187, 182, 167, ..., 202, 191, 170],\n",
       "       [165, 172, 164, ..., 185, 141, 122],\n",
       "       [179, 179, 146, ..., 197, 142, 141]], dtype=uint8)"
      ]
     },
     "execution_count": 3,
     "metadata": {},
     "output_type": "execute_result"
    }
   ],
   "source": [
    "img=cv2.imread('./image/P4_2_cat.jpg', cv2.IMREAD_GRAYSCALE)\n",
    "img"
   ]
  },
  {
   "cell_type": "code",
   "execution_count": 4,
   "id": "980b6566-2feb-47f8-9966-fedb4fbe9662",
   "metadata": {},
   "outputs": [],
   "source": [
    "#图像的显示，也可以创建多个窗口\n",
    "cv2.imshow('image', img)\n",
    "# 等待时间，毫秒级，0表示任意键终止\n",
    "cv2.waitKey(10000)\n",
    "cv2.destroyAllWindows()"
   ]
  },
  {
   "cell_type": "code",
   "execution_count": 5,
   "id": "d5092119-681e-40f4-9d0f-b038bc4aad73",
   "metadata": {},
   "outputs": [
    {
     "data": {
      "text/plain": [
       "True"
      ]
     },
     "execution_count": 5,
     "metadata": {},
     "output_type": "execute_result"
    }
   ],
   "source": [
    "#保存\n",
    "cv2.imwrite('./image/P5_1_mycat.png', img)"
   ]
  },
  {
   "cell_type": "code",
   "execution_count": 6,
   "id": "3d7d0ba3-3eee-4d4a-bbd7-4bf767dc57a5",
   "metadata": {},
   "outputs": [
    {
     "data": {
      "text/plain": [
       "numpy.ndarray"
      ]
     },
     "execution_count": 6,
     "metadata": {},
     "output_type": "execute_result"
    }
   ],
   "source": [
    "type(img)"
   ]
  },
  {
   "cell_type": "code",
   "execution_count": 7,
   "id": "26209860-5142-4cbf-b54a-61591c9d2ed8",
   "metadata": {},
   "outputs": [
    {
     "data": {
      "text/plain": [
       "207000"
      ]
     },
     "execution_count": 7,
     "metadata": {},
     "output_type": "execute_result"
    }
   ],
   "source": [
    "img.size"
   ]
  },
  {
   "cell_type": "code",
   "execution_count": 8,
   "id": "5322197e-4763-4f02-acaf-36f649982714",
   "metadata": {},
   "outputs": [
    {
     "data": {
      "text/plain": [
       "dtype('uint8')"
      ]
     },
     "execution_count": 8,
     "metadata": {},
     "output_type": "execute_result"
    }
   ],
   "source": [
    "img.dtype"
   ]
  },
  {
   "cell_type": "markdown",
   "id": "5c418aa7-5ea5-4930-8f9e-aa3e162a8194",
   "metadata": {},
   "source": [
    "## **数据读取-视频**"
   ]
  },
  {
   "cell_type": "markdown",
   "id": "1f1be535-96b1-4dae-be2c-53dc7938fda1",
   "metadata": {},
   "source": [
    "* cv2.VideoCapture可以捕获摄像头，用数字来控制不同的设备，例如0，1。\n",
    "* 如果是视频文件，直接指定好路径即可。"
   ]
  },
  {
   "cell_type": "code",
   "execution_count": 13,
   "id": "74a4a3e1-e245-4728-a700-bab5ee6293f4",
   "metadata": {},
   "outputs": [],
   "source": [
    "vc = cv2.VideoCapture('./video/P5_1_test.mp4')"
   ]
  },
  {
   "cell_type": "code",
   "execution_count": 14,
   "id": "aa09ac31-df3b-45c3-8fcb-9b1baf7f41f0",
   "metadata": {},
   "outputs": [],
   "source": [
    "# 检查是否打开正确\n",
    "if vc.isOpened():\n",
    "    open, frame = vc.read()\n",
    "else:\n",
    "    open = False"
   ]
  },
  {
   "cell_type": "code",
   "execution_count": 15,
   "id": "8eee9529-9599-4e57-8a83-89cacd0e2807",
   "metadata": {},
   "outputs": [],
   "source": [
    "while open:\n",
    "    ret, frame = vc.read()\n",
    "    if frame is None:\n",
    "        break\n",
    "    if ret == True:\n",
    "        gray = cv2.cvtColor(frame, cv2.COLOR_BGR2GRAY)\n",
    "        cv2.imshow('result', gray)\n",
    "        if cv2.waitKey(10) & 0xFF == 27:\n",
    "            break\n",
    "vc.release()\n",
    "cv2.destroyAllWindows()"
   ]
  }
 ],
 "metadata": {
  "kernelspec": {
   "display_name": "Python 3 (ipykernel)",
   "language": "python",
   "name": "python3"
  },
  "language_info": {
   "codemirror_mode": {
    "name": "ipython",
    "version": 3
   },
   "file_extension": ".py",
   "mimetype": "text/x-python",
   "name": "python",
   "nbconvert_exporter": "python",
   "pygments_lexer": "ipython3",
   "version": "3.8.11"
  }
 },
 "nbformat": 4,
 "nbformat_minor": 5
}
