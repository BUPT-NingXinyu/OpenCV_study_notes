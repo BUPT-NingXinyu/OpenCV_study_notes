{
 "cells": [
  {
   "cell_type": "markdown",
   "id": "cf00e30a-711c-4163-944f-8aa364fa8c57",
   "metadata": {},
   "source": [
    "## **梯度计算**"
   ]
  },
  {
   "cell_type": "code",
   "execution_count": 2,
   "id": "223b7a86-59e6-45f6-9b35-686438ce5e57",
   "metadata": {},
   "outputs": [],
   "source": [
    "import cv2\n",
    "import numpy as np\n",
    "\n",
    "# 梯度=膨胀-腐蚀\n",
    "pie = cv2.imread('./image/P12_2_pie.png')\n",
    "kernel = np.ones((7,7),np.uint8)\n",
    "dilate = cv2.dilate(pie,kernel,iterations = 5)\n",
    "erosion = cv2.erode(pie,kernel,iterations = 5)\n",
    "\n",
    "res = np.hstack((dilate,erosion))\n",
    "\n",
    "cv2.imshow('res', res)\n",
    "cv2.waitKey(0)\n",
    "cv2.destroyAllWindows()"
   ]
  },
  {
   "cell_type": "code",
   "execution_count": 3,
   "id": "52683499-e4e8-4adb-a1db-b350e2f09067",
   "metadata": {},
   "outputs": [],
   "source": [
    "gradient = cv2.morphologyEx(pie, cv2.MORPH_GRADIENT, kernel)\n",
    "\n",
    "cv2.imshow('gradient', gradient)\n",
    "cv2.waitKey(0)\n",
    "cv2.destroyAllWindows()"
   ]
  }
 ],
 "metadata": {
  "kernelspec": {
   "display_name": "Python 3 (ipykernel)",
   "language": "python",
   "name": "python3"
  },
  "language_info": {
   "codemirror_mode": {
    "name": "ipython",
    "version": 3
   },
   "file_extension": ".py",
   "mimetype": "text/x-python",
   "name": "python",
   "nbconvert_exporter": "python",
   "pygments_lexer": "ipython3",
   "version": "3.8.11"
  }
 },
 "nbformat": 4,
 "nbformat_minor": 5
}
