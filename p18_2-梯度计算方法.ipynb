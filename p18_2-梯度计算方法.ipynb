{
 "cells": [
  {
   "cell_type": "code",
   "execution_count": 1,
   "id": "4c80788c-cf2f-46a3-8b38-6f11399a81f8",
   "metadata": {},
   "outputs": [],
   "source": [
    "import cv2\n",
    "\n",
    "img = cv2.imread('./image/P12_2_pie.png', cv2.IMREAD_GRAYSCALE)\n",
    "\n",
    "def cv_show(img,name):\n",
    "    cv2.imshow(name,img)\n",
    "    cv2.waitKey()\n",
    "    cv2.destroyAllWindows()"
   ]
  },
  {
   "cell_type": "code",
   "execution_count": 2,
   "id": "97d92c46-916a-49e0-a0a7-aa01d9a673c5",
   "metadata": {},
   "outputs": [],
   "source": [
    "sobelx = cv2.Sobel(img,cv2.CV_64F,1,0,ksize = 3)\n",
    "sobelx = cv2.convertScaleAbs(sobelx)\n",
    "cv_show(sobelx,'sobelx')"
   ]
  },
  {
   "cell_type": "code",
   "execution_count": 3,
   "id": "11a93dd7-298c-42f7-9208-6250848bb8ec",
   "metadata": {},
   "outputs": [],
   "source": [
    "sobely = cv2.Sobel(img,cv2.CV_64F,0,1,ksize = 3)\n",
    "sobely = cv2.convertScaleAbs(sobely)\n",
    "cv_show(sobely,'sobely')"
   ]
  },
  {
   "cell_type": "markdown",
   "id": "5ba753df-754e-40e6-9838-e359516001bc",
   "metadata": {},
   "source": [
    "分别计算x和y，再求和"
   ]
  },
  {
   "cell_type": "code",
   "execution_count": 4,
   "id": "64ad2251-4bf8-43c4-b448-78502221d711",
   "metadata": {},
   "outputs": [],
   "source": [
    "sobelxy = cv2.addWeighted(sobelx,0.5,sobely,0.5,0)\n",
    "sobelxy = cv2.convertScaleAbs(sobelxy)\n",
    "cv_show(sobelxy,'sobelxy')"
   ]
  },
  {
   "cell_type": "markdown",
   "id": "efe9bdb8-b595-404e-bca5-e9d7196b0464",
   "metadata": {},
   "source": [
    "不建议直接计算"
   ]
  },
  {
   "cell_type": "code",
   "execution_count": 5,
   "id": "5e074873-6e7f-4275-879c-59f6dce785d3",
   "metadata": {},
   "outputs": [],
   "source": [
    "sobelxy = cv2.Sobel(img,cv2.CV_64F,1,1,ksize = 3)\n",
    "sobelxy = cv2.convertScaleAbs(sobelxy)\n",
    "cv_show(sobelxy,'sobelxy')"
   ]
  },
  {
   "cell_type": "code",
   "execution_count": 6,
   "id": "ff46eedb-b38b-408a-a2aa-343902d74112",
   "metadata": {},
   "outputs": [],
   "source": [
    "img = cv2.imread('./image/P18_1_Lena.jpg',cv2.IMREAD_GRAYSCALE)\n",
    "cv_show(img,'img')"
   ]
  },
  {
   "cell_type": "code",
   "execution_count": 7,
   "id": "8928e339-7c63-4850-850e-06782bf4f9fa",
   "metadata": {},
   "outputs": [],
   "source": [
    "img = cv2.imread('./image/P18_1_Lena.jpg',cv2.IMREAD_GRAYSCALE)\n",
    "sobelx = cv2.Sobel(img,cv2.CV_64F,1,0,ksize=3)\n",
    "sobelx = cv2.convertScaleAbs(sobelx)\n",
    "sobely = cv2.Sobel(img,cv2.CV_64F,0,1,ksize = 3)\n",
    "sobely = cv2.convertScaleAbs(sobely)\n",
    "sobelxy = cv2.addWeighted(sobelx,0.5,sobely,0.5,0)\n",
    "cv_show(sobelxy,'sobelxy')"
   ]
  },
  {
   "cell_type": "code",
   "execution_count": 8,
   "id": "7fb34880-f65e-44c4-b6ce-54951613b0e6",
   "metadata": {},
   "outputs": [],
   "source": [
    "img = cv2.imread('./image/P18_1_Lena.jpg',cv2.IMREAD_GRAYSCALE)\n",
    "\n",
    "sobelxy = cv2.Sobel(img,cv2.CV_64F,1,1,ksize = 3)\n",
    "sobelxy = cv2.convertScaleAbs(sobelxy)\n",
    "cv_show(sobelxy,'sobelxy')"
   ]
  }
 ],
 "metadata": {
  "kernelspec": {
   "display_name": "Python 3 (ipykernel)",
   "language": "python",
   "name": "python3"
  },
  "language_info": {
   "codemirror_mode": {
    "name": "ipython",
    "version": 3
   },
   "file_extension": ".py",
   "mimetype": "text/x-python",
   "name": "python",
   "nbconvert_exporter": "python",
   "pygments_lexer": "ipython3",
   "version": "3.8.11"
  }
 },
 "nbformat": 4,
 "nbformat_minor": 5
}
