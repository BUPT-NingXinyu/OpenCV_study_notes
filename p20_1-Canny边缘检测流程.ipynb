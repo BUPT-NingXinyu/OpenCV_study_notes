{
 "cells": [
  {
   "cell_type": "markdown",
   "id": "4e4875f3-7005-402e-a201-375805cb2f38",
   "metadata": {},
   "source": [
    "## **Canny边缘检测**"
   ]
  },
  {
   "cell_type": "markdown",
   "id": "c50454e5-ff1f-4328-9bce-249822ca887f",
   "metadata": {},
   "source": [
    "* 1)使用高斯滤波器，以平滑图像，滤除噪声。\n",
    "* 2)计算图像中每个像素点的梯度强度和方向。\n",
    "* 3)应用非极大值 (Non-Maximum Suppression) 抑制，以消除边缘检测带来的杂散响应。\n",
    "* 4)应用双阈值 (Double-Threshold) 检测来确定真实的和潜在的边缘。\n",
    "* 5)通过抑制孤立的弱边缘最终完成边缘检测。"
   ]
  },
  {
   "cell_type": "markdown",
   "id": "6b0c6055-88b9-44d2-bfdb-ac17b2ba2fd0",
   "metadata": {},
   "source": [
    "**1：高斯滤波器**"
   ]
  },
  {
   "cell_type": "markdown",
   "id": "0029058a-5ec5-488a-991e-e14ddeeaf8aa",
   "metadata": {},
   "source": [
    "![](./image/P20_1.png)\n",
    "![](./image/P20_2.png)"
   ]
  },
  {
   "cell_type": "markdown",
   "id": "01c85045-f11a-476b-98de-125204b56d79",
   "metadata": {},
   "source": [
    "**2：梯度和方向**"
   ]
  },
  {
   "cell_type": "markdown",
   "id": "38d6dc53-4305-4d59-97f8-dc7a355842af",
   "metadata": {},
   "source": [
    "![](./image/P20_3.png)\n",
    "![](./image/P20_4.png)"
   ]
  }
 ],
 "metadata": {
  "kernelspec": {
   "display_name": "Python 3 (ipykernel)",
   "language": "python",
   "name": "python3"
  },
  "language_info": {
   "codemirror_mode": {
    "name": "ipython",
    "version": 3
   },
   "file_extension": ".py",
   "mimetype": "text/x-python",
   "name": "python",
   "nbconvert_exporter": "python",
   "pygments_lexer": "ipython3",
   "version": "3.8.11"
  }
 },
 "nbformat": 4,
 "nbformat_minor": 5
}
