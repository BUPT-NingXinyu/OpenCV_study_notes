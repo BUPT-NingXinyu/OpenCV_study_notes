{
 "cells": [
  {
   "cell_type": "markdown",
   "id": "596c9931-1b47-439c-973d-78ec6bae0fda",
   "metadata": {},
   "source": [
    "## **图像梯度-Sobel算子**"
   ]
  },
  {
   "cell_type": "markdown",
   "id": "36d4016c-4e84-4134-a23d-78b584d06328",
   "metadata": {},
   "source": [
    "![](./image/P17_1.png)"
   ]
  },
  {
   "cell_type": "code",
   "execution_count": 2,
   "id": "53663485-ce72-4eeb-b776-2e8af75729c0",
   "metadata": {},
   "outputs": [],
   "source": [
    "import cv2\n",
    "\n",
    "img = cv2.imread('./image/P12_2_pie.png', cv2.IMREAD_GRAYSCALE)\n",
    "cv2.imshow('img', img)\n",
    "cv2.waitKey(0)\n",
    "cv2.destroyAllWindows()"
   ]
  },
  {
   "cell_type": "markdown",
   "id": "f9b2ced8-7903-49f5-b5e0-c96a162e05a8",
   "metadata": {},
   "source": [
    "dst = cv2.Sobel(src, ddepth, dx, dy, ksize)\n",
    "* ddepth：图像的深度\n",
    "* dx和dy分别表示水平和竖直方向\n",
    "* ksize是Sobel算子的大小"
   ]
  },
  {
   "cell_type": "code",
   "execution_count": 3,
   "id": "ba8eacb2-699c-4252-8563-ceb9ba874761",
   "metadata": {},
   "outputs": [],
   "source": [
    "def cv_show(img,name):\n",
    "    cv2.imshow(name,img)\n",
    "    cv2.waitKey()\n",
    "    cv2.destroyAllWindows()"
   ]
  },
  {
   "cell_type": "code",
   "execution_count": 5,
   "id": "ed5af98d-8ff6-46e5-b940-3eb37163b102",
   "metadata": {},
   "outputs": [],
   "source": [
    "sobelx = cv2.Sobel(img, cv2.CV_64F,1,0,ksize = 3)\n",
    "\n",
    "cv_show(sobelx,'sobelx')"
   ]
  },
  {
   "cell_type": "markdown",
   "id": "56c8636f-65ed-4e44-89dc-8c118ea2e80e",
   "metadata": {},
   "source": [
    "白到黑是正数，黑到白就是负数了，所有的负数会被截断成0，所以要取绝对值"
   ]
  }
 ],
 "metadata": {
  "kernelspec": {
   "display_name": "Python 3 (ipykernel)",
   "language": "python",
   "name": "python3"
  },
  "language_info": {
   "codemirror_mode": {
    "name": "ipython",
    "version": 3
   },
   "file_extension": ".py",
   "mimetype": "text/x-python",
   "name": "python",
   "nbconvert_exporter": "python",
   "pygments_lexer": "ipython3",
   "version": "3.8.11"
  }
 },
 "nbformat": 4,
 "nbformat_minor": 5
}
