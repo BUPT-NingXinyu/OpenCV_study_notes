{
 "cells": [
  {
   "cell_type": "markdown",
   "id": "5238be0f-c153-45f1-8b2a-2523f38fdd22",
   "metadata": {},
   "source": [
    "## **截取部分图像数据**"
   ]
  },
  {
   "cell_type": "code",
   "execution_count": 1,
   "id": "7ac4fda3-f0a4-4bf4-b011-75a70aeccb84",
   "metadata": {},
   "outputs": [],
   "source": [
    "import cv2\n",
    "\n",
    "def cv_show(name, img):\n",
    "    cv2.imshow(name, img)\n",
    "    cv2.waitKey(0)\n",
    "    cv2.destroyAllWindows()\n",
    "\n",
    "img=cv2.imread('./image/P4_2_cat.jpg')\n",
    "cat=img[0:200,0:200]\n",
    "cv_show('cat',cat)"
   ]
  },
  {
   "cell_type": "markdown",
   "id": "0b3ac5c3-a3c0-4809-94ec-ba5a435dd502",
   "metadata": {},
   "source": [
    "## **颜色通道提取**"
   ]
  },
  {
   "cell_type": "code",
   "execution_count": 2,
   "id": "c8af5427-fb4c-4e0e-b13f-67c2b5213aed",
   "metadata": {},
   "outputs": [],
   "source": [
    "b, g, r=cv2.split(img)"
   ]
  },
  {
   "cell_type": "code",
   "execution_count": 3,
   "id": "384e0236-4646-474d-8203-ea62d9d4d2c1",
   "metadata": {},
   "outputs": [
    {
     "data": {
      "text/plain": [
       "array([[142, 146, 151, ..., 156, 155, 154],\n",
       "       [108, 112, 118, ..., 155, 154, 153],\n",
       "       [108, 110, 118, ..., 156, 155, 154],\n",
       "       ...,\n",
       "       [162, 157, 142, ..., 181, 170, 149],\n",
       "       [140, 147, 139, ..., 169, 125, 106],\n",
       "       [154, 154, 121, ..., 183, 128, 127]], dtype=uint8)"
      ]
     },
     "execution_count": 3,
     "metadata": {},
     "output_type": "execute_result"
    }
   ],
   "source": [
    "b"
   ]
  },
  {
   "cell_type": "code",
   "execution_count": 4,
   "id": "f21f44e7-6a98-4cbc-9ffb-89704252754f",
   "metadata": {},
   "outputs": [
    {
     "data": {
      "text/plain": [
       "(414, 500)"
      ]
     },
     "execution_count": 4,
     "metadata": {},
     "output_type": "execute_result"
    }
   ],
   "source": [
    "b.shape"
   ]
  },
  {
   "cell_type": "code",
   "execution_count": 5,
   "id": "6d593391-b851-4bfe-8db9-83ae322db1e0",
   "metadata": {},
   "outputs": [
    {
     "data": {
      "text/plain": [
       "(414, 500, 3)"
      ]
     },
     "execution_count": 5,
     "metadata": {},
     "output_type": "execute_result"
    }
   ],
   "source": [
    "img=cv2.merge((b,g,r))\n",
    "img.shape"
   ]
  },
  {
   "cell_type": "code",
   "execution_count": 6,
   "id": "072724e4-dec2-4bca-8227-a8f1202f3537",
   "metadata": {},
   "outputs": [],
   "source": [
    "#只保留R\n",
    "cur_img = img.copy()\n",
    "cur_img[:,:,0] = 0\n",
    "cur_img[:,:,1] = 0\n",
    "cv_show('R',cur_img)"
   ]
  },
  {
   "cell_type": "code",
   "execution_count": 7,
   "id": "448e3283-c9ab-44d5-858b-2560823b98bb",
   "metadata": {},
   "outputs": [],
   "source": [
    "#只保留G\n",
    "cur_img = img.copy()\n",
    "cur_img[:,:,0] = 0\n",
    "cur_img[:,:,2] = 0\n",
    "cv_show('G',cur_img)"
   ]
  },
  {
   "cell_type": "code",
   "execution_count": 8,
   "id": "d7b8d3cb-86c6-464f-b60d-dc816cf4c6dd",
   "metadata": {},
   "outputs": [],
   "source": [
    "#只保留B\n",
    "cur_img = img.copy()\n",
    "cur_img[:,:,1] = 0\n",
    "cur_img[:,:,2] = 0\n",
    "cv_show('B',cur_img)"
   ]
  }
 ],
 "metadata": {
  "kernelspec": {
   "display_name": "Python 3 (ipykernel)",
   "language": "python",
   "name": "python3"
  },
  "language_info": {
   "codemirror_mode": {
    "name": "ipython",
    "version": 3
   },
   "file_extension": ".py",
   "mimetype": "text/x-python",
   "name": "python",
   "nbconvert_exporter": "python",
   "pygments_lexer": "ipython3",
   "version": "3.8.11"
  }
 },
 "nbformat": 4,
 "nbformat_minor": 5
}
