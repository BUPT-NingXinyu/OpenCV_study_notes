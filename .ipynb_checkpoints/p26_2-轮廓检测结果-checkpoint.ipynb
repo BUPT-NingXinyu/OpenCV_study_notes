{
 "cells": [
  {
   "cell_type": "code",
   "execution_count": 8,
   "id": "7e924d47-f03b-4045-a1be-7745e79bf380",
   "metadata": {},
   "outputs": [],
   "source": [
    "import cv2\n",
    "\n",
    "def cv_show(img,name):\n",
    "    cv2.imshow(name,img)\n",
    "    cv2.waitKey()\n",
    "    cv2.destroyAllWindows()\n",
    "    \n",
    "img = cv2.imread('./image/P25_2_contours.png')\n",
    "gray = cv2.cvtColor(img, cv2.COLOR_BGR2GRAY)\n",
    "ret, thresh = cv2.threshold(gray, 127, 255, cv2.THRESH_BINARY)\n",
    "cv_show(thresh, 'thresh')"
   ]
  },
  {
   "cell_type": "code",
   "execution_count": 9,
   "id": "48457b3d-5eba-4407-bd93-7261e6d9f99d",
   "metadata": {},
   "outputs": [],
   "source": [
    "contours, hierarchy = cv2.findContours(thresh, cv2.RETR_TREE, cv2.CHAIN_APPROX_NONE) # 在opencv-python 4.4.0版本中，此函数返回值只有两个"
   ]
  },
  {
   "cell_type": "code",
   "execution_count": 10,
   "id": "3527d617-e7e2-4bb7-b665-39af873caaff",
   "metadata": {},
   "outputs": [
    {
     "data": {
      "text/plain": [
       "(11,)"
      ]
     },
     "execution_count": 10,
     "metadata": {},
     "output_type": "execute_result"
    }
   ],
   "source": [
    "import numpy as np\n",
    "np.array(contours,dtype=object).shape"
   ]
  },
  {
   "cell_type": "markdown",
   "id": "3371c95d-e4b1-4a9d-97e2-7a4ff9babc3a",
   "metadata": {},
   "source": [
    "绘制轮廓"
   ]
  },
  {
   "cell_type": "code",
   "execution_count": 11,
   "id": "27f32209-ad3d-48fe-9b30-a8e8dc8f9a57",
   "metadata": {},
   "outputs": [],
   "source": [
    "#传入绘制图像，轮廓，轮廓索引，颜色模式，线条厚度\n",
    "# 注意需要copy，要不原图会变\n",
    "draw_img = img.copy()\n",
    "res = cv2.drawContours(draw_img, contours, -1, (0, 0, 255), 2)\n",
    "cv_show(res, 'res')"
   ]
  },
  {
   "cell_type": "code",
   "execution_count": 12,
   "id": "cd1015f2-2d43-49ba-b64b-969aef2eee7c",
   "metadata": {},
   "outputs": [],
   "source": [
    "draw_img = img.copy()\n",
    "res = cv2.drawContours(draw_img, contours, 0, (0, 0, 255), 2)\n",
    "cv_show(res, 'res')"
   ]
  }
 ],
 "metadata": {
  "kernelspec": {
   "display_name": "Python 3 (ipykernel)",
   "language": "python",
   "name": "python3"
  },
  "language_info": {
   "codemirror_mode": {
    "name": "ipython",
    "version": 3
   },
   "file_extension": ".py",
   "mimetype": "text/x-python",
   "name": "python",
   "nbconvert_exporter": "python",
   "pygments_lexer": "ipython3",
   "version": "3.8.11"
  }
 },
 "nbformat": 4,
 "nbformat_minor": 5
}
