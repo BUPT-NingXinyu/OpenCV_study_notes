{
 "cells": [
  {
   "cell_type": "markdown",
   "id": "b7cb9900-3d88-41a3-bd68-528c23052ab9",
   "metadata": {},
   "source": [
    "## **傅里叶变换**"
   ]
  },
  {
   "cell_type": "markdown",
   "id": "98621420-01da-4c51-b67b-6a6091989666",
   "metadata": {},
   "source": [
    "我们生活在时间的世界中，早上7:00起来吃早饭，8:00去挤地铁，9:00开始上班。。。以时间为参照就是时域分析。\n",
    "\n",
    "但是在频域中一切都是静止的！\n",
    "\n",
    "httpS://zhuanlan.zhihu.com/p/19763358"
   ]
  },
  {
   "cell_type": "markdown",
   "id": "3888f8a8-c698-418d-9c1b-30a2eae3e3b4",
   "metadata": {},
   "source": [
    "## **傅里叶变换的作用**\n",
    "* 高频：变化剧烈的灰度分量，例如边界\n",
    "* 低频：变化缓慢的灰度分量，例如一片大海"
   ]
  },
  {
   "cell_type": "markdown",
   "id": "9c78ac09-36ac-4eec-814b-bc0123573f3e",
   "metadata": {},
   "source": [
    "## **滤波**\n",
    "* 低通滤波器：只保留低频，会使图像变得模糊\n",
    "* 高通滤波器：只保留高频，会使得图像细节增强\n",
    "\n",
    "* opencv种主要就是cv2.dft()和cv2.idft()，输入图像需要先转换成np.float32格式。\n",
    "* 得到的结果中频率为0的部分会在左上角，通常要转换到中心位置，可以通过shift变换来实现。\n",
    "* cv2.dft()返回的结果是双通道的 (实部，虚部)，通常还需要转换成图像格式才能展示 (0, 255)。"
   ]
  }
 ],
 "metadata": {
  "kernelspec": {
   "display_name": "Python 3 (ipykernel)",
   "language": "python",
   "name": "python3"
  },
  "language_info": {
   "codemirror_mode": {
    "name": "ipython",
    "version": 3
   },
   "file_extension": ".py",
   "mimetype": "text/x-python",
   "name": "python",
   "nbconvert_exporter": "python",
   "pygments_lexer": "ipython3",
   "version": "3.8.11"
  }
 },
 "nbformat": 4,
 "nbformat_minor": 5
}
