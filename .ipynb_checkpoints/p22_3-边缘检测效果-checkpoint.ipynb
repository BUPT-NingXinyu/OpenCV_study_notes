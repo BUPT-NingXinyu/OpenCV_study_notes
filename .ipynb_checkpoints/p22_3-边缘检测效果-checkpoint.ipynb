{
 "cells": [
  {
   "cell_type": "markdown",
   "id": "36f3d18a-be2c-410c-aa56-4dbc2796fe7e",
   "metadata": {},
   "source": [
    "**4：双阈值检测**"
   ]
  },
  {
   "cell_type": "markdown",
   "id": "387262eb-7700-402a-a168-237a0e132ded",
   "metadata": {},
   "source": [
    "![](./image/P22_1.png)"
   ]
  },
  {
   "cell_type": "code",
   "execution_count": 1,
   "id": "6a48c44b-3bb3-46b0-ad19-f473c62ca765",
   "metadata": {},
   "outputs": [],
   "source": [
    "import cv2\n",
    "import numpy as np\n",
    "\n",
    "def cv_show(img,name):\n",
    "    cv2.imshow(name,img)\n",
    "    cv2.waitKey()\n",
    "    cv2.destroyAllWindows()\n",
    "    \n",
    "img = cv2.imread('./image/P18_1_Lena.jpg',cv2.IMREAD_GRAYSCALE)\n",
    "\n",
    "v1=cv2.Canny(img,80,150)\n",
    "v2=cv2.Canny(img,50,100)\n",
    "\n",
    "res = np.hstack((v1,v2))\n",
    "cv_show(res,'res')"
   ]
  },
  {
   "cell_type": "code",
   "execution_count": 2,
   "id": "ce62b79b-245e-4c23-8789-87e0d9ceafe1",
   "metadata": {},
   "outputs": [],
   "source": [
    "img = cv2.imread('./image/P22_2_car.png',cv2.IMREAD_GRAYSCALE)\n",
    "\n",
    "v1=cv2.Canny(img,120,250)\n",
    "v2=cv2.Canny(img,50,100)\n",
    "\n",
    "res = np.hstack((v1,v2))\n",
    "cv_show(res,'res')"
   ]
  }
 ],
 "metadata": {
  "kernelspec": {
   "display_name": "Python 3 (ipykernel)",
   "language": "python",
   "name": "python3"
  },
  "language_info": {
   "codemirror_mode": {
    "name": "ipython",
    "version": 3
   },
   "file_extension": ".py",
   "mimetype": "text/x-python",
   "name": "python",
   "nbconvert_exporter": "python",
   "pygments_lexer": "ipython3",
   "version": "3.8.11"
  }
 },
 "nbformat": 4,
 "nbformat_minor": 5
}
