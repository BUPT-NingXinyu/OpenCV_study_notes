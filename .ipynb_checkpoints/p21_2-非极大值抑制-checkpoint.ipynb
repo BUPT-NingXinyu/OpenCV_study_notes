{
 "cells": [
  {
   "cell_type": "markdown",
   "id": "f849c773-4c8b-45c5-aa73-b24f5b160db6",
   "metadata": {},
   "source": [
    "**3：非极大值抑制**"
   ]
  },
  {
   "cell_type": "markdown",
   "id": "5d170a83-1670-434c-8a38-4c63cf368acd",
   "metadata": {},
   "source": [
    "![](./image/P21_1.png)\n",
    "![](./image/P21_2.png)"
   ]
  }
 ],
 "metadata": {
  "kernelspec": {
   "display_name": "Python 3 (ipykernel)",
   "language": "python",
   "name": "python3"
  },
  "language_info": {
   "codemirror_mode": {
    "name": "ipython",
    "version": 3
   },
   "file_extension": ".py",
   "mimetype": "text/x-python",
   "name": "python",
   "nbconvert_exporter": "python",
   "pygments_lexer": "ipython3",
   "version": "3.8.11"
  }
 },
 "nbformat": 4,
 "nbformat_minor": 5
}
