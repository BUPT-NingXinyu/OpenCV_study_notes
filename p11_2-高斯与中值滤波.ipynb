{
 "cells": [
  {
   "cell_type": "code",
   "execution_count": 4,
   "id": "cde28b84-9a20-4ded-ba71-58fb4b0fb6d5",
   "metadata": {},
   "outputs": [],
   "source": [
    "import cv2\n",
    "\n",
    "img = cv2.imread('./image/P10_2_LenaNoise.png')\n",
    "\n",
    "# 高斯滤波\n",
    "# 高斯模糊的卷积核里的数值满足高斯分布， 相当于更重视中间的\n",
    "gaussian = cv2.GaussianBlur(img, (5,5), 1)\n",
    "\n",
    "cv2.imshow('gaussian', gaussian)\n",
    "cv2.waitKey(0)\n",
    "cv2.destroyAllWindows()"
   ]
  },
  {
   "cell_type": "code",
   "execution_count": 5,
   "id": "301da847-c316-4c64-99da-2517791f413e",
   "metadata": {},
   "outputs": [],
   "source": [
    "# 中值滤波\n",
    "# 相当于用中值代替\n",
    "median = cv2.medianBlur(img, 5)  # 中值滤波\n",
    "\n",
    "cv2.imshow('median', median)\n",
    "cv2.waitKey(0)\n",
    "cv2.destroyAllWindows()"
   ]
  },
  {
   "cell_type": "code",
   "execution_count": 7,
   "id": "62cc241d-59e1-4f69-8655-722d29d74633",
   "metadata": {},
   "outputs": [
    {
     "name": "stdout",
     "output_type": "stream",
     "text": [
      "[[[126 137 226]\n",
      "  [127 137 225]\n",
      "  [129 137 224]\n",
      "  ...\n",
      "  [122 145 230]\n",
      "  [110 130 221]\n",
      "  [ 90  99 200]]\n",
      "\n",
      " [[126 137 226]\n",
      "  [127 137 225]\n",
      "  [129 137 224]\n",
      "  ...\n",
      "  [122 145 230]\n",
      "  [110 130 221]\n",
      "  [ 90  99 200]]\n",
      "\n",
      " [[126 137 226]\n",
      "  [127 137 225]\n",
      "  [129 137 224]\n",
      "  ...\n",
      "  [122 145 230]\n",
      "  [110 130 221]\n",
      "  [ 90  99 200]]\n",
      "\n",
      " ...\n",
      "\n",
      " [[ 93  62 115]\n",
      "  [ 82  49 106]\n",
      "  [ 70  36  98]\n",
      "  ...\n",
      "  [ 79  67 173]\n",
      "  [ 79  67 174]\n",
      "  [ 81  68 177]]\n",
      "\n",
      " [[ 77  45 101]\n",
      "  [ 72  38  96]\n",
      "  [ 70  30  93]\n",
      "  ...\n",
      "  [ 81  70 177]\n",
      "  [ 81  70 177]\n",
      "  [ 81  71 179]]\n",
      "\n",
      " [[ 66  33  91]\n",
      "  [ 67  31  91]\n",
      "  [ 74  29  92]\n",
      "  ...\n",
      "  [ 81  71 177]\n",
      "  [ 81  71 179]\n",
      "  [ 81  73 181]]]\n"
     ]
    }
   ],
   "source": [
    "# 展示所有的\n",
    "import numpy as np\n",
    "res = np.hstack((gaussian, median))\n",
    "print(res)\n",
    "cv2.imshow('gaussian vs median', res)\n",
    "cv2.waitKey(0)\n",
    "cv2.destroyAllWindows()"
   ]
  },
  {
   "cell_type": "code",
   "execution_count": null,
   "id": "79e9a231-d2cc-4822-9440-dc448a140fb0",
   "metadata": {},
   "outputs": [],
   "source": []
  }
 ],
 "metadata": {
  "kernelspec": {
   "display_name": "Python 3 (ipykernel)",
   "language": "python",
   "name": "python3"
  },
  "language_info": {
   "codemirror_mode": {
    "name": "ipython",
    "version": 3
   },
   "file_extension": ".py",
   "mimetype": "text/x-python",
   "name": "python",
   "nbconvert_exporter": "python",
   "pygments_lexer": "ipython3",
   "version": "3.8.11"
  }
 },
 "nbformat": 4,
 "nbformat_minor": 5
}
