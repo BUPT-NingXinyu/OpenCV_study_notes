{
 "cells": [
  {
   "cell_type": "markdown",
   "id": "e9475313-ac99-4f6e-bd62-7441bcaaf81a",
   "metadata": {},
   "source": [
    "## **形态学-腐蚀操作**"
   ]
  },
  {
   "cell_type": "code",
   "execution_count": 1,
   "id": "11ae9578-932f-464b-9d4e-3aaea3f8130c",
   "metadata": {},
   "outputs": [],
   "source": [
    "import cv2\n",
    "\n",
    "img = cv2.imread('./image/P12_1_dige.png')\n",
    "\n",
    "cv2.imshow('img', img)\n",
    "cv2.waitKey(0)\n",
    "cv2.destroyAllWindows()"
   ]
  },
  {
   "cell_type": "code",
   "execution_count": 3,
   "id": "0d12daba-cdfe-45d3-aae6-12e36a8c191c",
   "metadata": {},
   "outputs": [],
   "source": [
    "import numpy as np\n",
    "kernel = np.ones((5,5),np.uint8)\n",
    "erosion = cv2.erode(img,kernel,iterations = 1)\n",
    "\n",
    "cv2.imshow('erosion', erosion)\n",
    "cv2.waitKey(0)\n",
    "cv2.destroyAllWindows()"
   ]
  },
  {
   "cell_type": "code",
   "execution_count": 4,
   "id": "ce88958e-b228-49ee-9ddc-ebe8d8f0c1e8",
   "metadata": {},
   "outputs": [],
   "source": [
    "pie = cv2.imread('./image/P12_2_pie.png')\n",
    "\n",
    "cv2.imshow('pie', pie)\n",
    "cv2.waitKey(0)\n",
    "cv2.destroyAllWindows()"
   ]
  },
  {
   "cell_type": "code",
   "execution_count": 5,
   "id": "434c2f71-eb5c-4fda-bf86-1e17f95d0715",
   "metadata": {},
   "outputs": [],
   "source": [
    "kernel = np.ones((30,30),np.uint8)\n",
    "erosion_1 = cv2.erode(pie,kernel,iterations = 1)\n",
    "erosion_2 = cv2.erode(pie,kernel,iterations = 2)\n",
    "erosion_3 = cv2.erode(pie,kernel,iterations = 3)\n",
    "res = np.hstack((erosion_1,erosion_2,erosion_3))\n",
    "cv2.imshow('res', res)\n",
    "cv2.waitKey(0)\n",
    "cv2.destroyAllWindows()"
   ]
  }
 ],
 "metadata": {
  "kernelspec": {
   "display_name": "Python 3 (ipykernel)",
   "language": "python",
   "name": "python3"
  },
  "language_info": {
   "codemirror_mode": {
    "name": "ipython",
    "version": 3
   },
   "file_extension": ".py",
   "mimetype": "text/x-python",
   "name": "python",
   "nbconvert_exporter": "python",
   "pygments_lexer": "ipython3",
   "version": "3.8.11"
  }
 },
 "nbformat": 4,
 "nbformat_minor": 5
}
