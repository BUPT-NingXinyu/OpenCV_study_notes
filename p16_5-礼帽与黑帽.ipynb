{
 "cells": [
  {
   "cell_type": "markdown",
   "id": "3de6d202-4088-4080-a7b4-230bc078d788",
   "metadata": {},
   "source": [
    "## **礼帽与黑帽**\n",
    "* 礼帽=原始输入-开运算结果\n",
    "* 黑帽=闭运算-原始输入"
   ]
  },
  {
   "cell_type": "code",
   "execution_count": 1,
   "id": "650642cd-c1ed-47b2-b80d-a8a87783374d",
   "metadata": {},
   "outputs": [],
   "source": [
    "import cv2\n",
    "import numpy as np\n",
    "\n",
    "kernel = np.ones((7,7), np.uint8)\n",
    "\n",
    "#礼帽\n",
    "img = cv2.imread('./image/P12_1_dige.png')\n",
    "tophat = cv2.morphologyEx(img, cv2.MORPH_TOPHAT, kernel)\n",
    "cv2.imshow('tophat', tophat)\n",
    "cv2.waitKey(0)\n",
    "cv2.destroyAllWindows()"
   ]
  },
  {
   "cell_type": "code",
   "execution_count": 2,
   "id": "989d6f14-9f8e-4d36-bf32-a56b16ec0bab",
   "metadata": {},
   "outputs": [],
   "source": [
    "#黑帽\n",
    "img = cv2.imread('./image/P12_1_dige.png')\n",
    "blackhat = cv2.morphologyEx(img, cv2.MORPH_BLACKHAT, kernel)\n",
    "cv2.imshow('blackhat', blackhat)\n",
    "cv2.waitKey(0)\n",
    "cv2.destroyAllWindows()"
   ]
  }
 ],
 "metadata": {
  "kernelspec": {
   "display_name": "Python 3 (ipykernel)",
   "language": "python",
   "name": "python3"
  },
  "language_info": {
   "codemirror_mode": {
    "name": "ipython",
    "version": 3
   },
   "file_extension": ".py",
   "mimetype": "text/x-python",
   "name": "python",
   "nbconvert_exporter": "python",
   "pygments_lexer": "ipython3",
   "version": "3.8.11"
  }
 },
 "nbformat": 4,
 "nbformat_minor": 5
}
