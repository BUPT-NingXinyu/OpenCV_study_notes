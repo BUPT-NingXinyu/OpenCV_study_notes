{
 "cells": [
  {
   "cell_type": "code",
   "execution_count": 1,
   "id": "ba2ba47f-ca8b-40bb-91df-3dff2470f4a9",
   "metadata": {},
   "outputs": [],
   "source": [
    "import cv2\n",
    "import numpy as np\n",
    "import matplotlib.pyplot as plt\n",
    "%matplotlib inline\n",
    "\n",
    "def cv_show(img, name):\n",
    "    cv2.imshow(name, img)\n",
    "    cv2.waitKey()\n",
    "    cv2.destroyAllWindows()"
   ]
  },
  {
   "cell_type": "code",
   "execution_count": 9,
   "id": "a98353b2-7166-4fb7-9b40-7bd0160fdc8c",
   "metadata": {},
   "outputs": [
    {
     "data": {
      "image/png": "[encoded data removed]",
      "text/plain": [
       "<Figure size 432x288 with 1 Axes>"
      ]
     },
     "metadata": {
      "needs_background": "light"
     },
     "output_type": "display_data"
    }
   ],
   "source": [
    "img = cv2.imread('./image/P32_1_Clahe.jpg', 0) #0表是灰度图 #clahe\n",
    "plt.hist(img.ravel(),256)\n",
    "plt.show()"
   ]
  },
  {
   "cell_type": "code",
   "execution_count": 10,
   "id": "3d99852d-825d-49f0-8886-68b926eac2ef",
   "metadata": {},
   "outputs": [
    {
     "data": {
      "image/png": "[encoded data removed]",
      "text/plain": [
       "<Figure size 432x288 with 1 Axes>"
      ]
     },
     "metadata": {
      "needs_background": "light"
     },
     "output_type": "display_data"
    }
   ],
   "source": [
    "equ = cv2.equalizeHist(img)\n",
    "plt.hist(equ.ravel(),256)\n",
    "plt.show()"
   ]
  },
  {
   "cell_type": "code",
   "execution_count": 11,
   "id": "cb15712a-e218-4e43-8377-780e0327205a",
   "metadata": {},
   "outputs": [],
   "source": [
    "res = np.hstack((img,equ))\n",
    "cv_show(res, 'res')"
   ]
  },
  {
   "cell_type": "markdown",
   "id": "97ffc970-ff83-4083-9fb4-f5bddc99752c",
   "metadata": {},
   "source": [
    "**自适应直方图均匀化**"
   ]
  },
  {
   "cell_type": "code",
   "execution_count": 12,
   "id": "ceeccd9d-219a-40ae-b9bc-18425d0c8bfc",
   "metadata": {},
   "outputs": [],
   "source": [
    "clahe = cv2.createCLAHE(clipLimit=2.0, tileGridSize=(8,8))"
   ]
  },
  {
   "cell_type": "code",
   "execution_count": 13,
   "id": "9f43f5dd-34aa-4f92-9226-7e1b4df67cea",
   "metadata": {},
   "outputs": [],
   "source": [
    "res_clahe = clahe.apply(img)\n",
    "res = np.hstack((img,equ,res_clahe))\n",
    "cv_show(res, 'res')"
   ]
  }
 ],
 "metadata": {
  "kernelspec": {
   "display_name": "Python 3 (ipykernel)",
   "language": "python",
   "name": "python3"
  },
  "language_info": {
   "codemirror_mode": {
    "name": "ipython",
    "version": 3
   },
   "file_extension": ".py",
   "mimetype": "text/x-python",
   "name": "python",
   "nbconvert_exporter": "python",
   "pygments_lexer": "ipython3",
   "version": "3.8.11"
  }
 },
 "nbformat": 4,
 "nbformat_minor": 5
}
