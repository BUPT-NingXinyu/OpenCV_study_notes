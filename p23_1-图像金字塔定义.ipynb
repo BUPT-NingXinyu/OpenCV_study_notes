{
 "cells": [
  {
   "cell_type": "markdown",
   "id": "32e84fd1-03c5-48dc-86ad-6f963d3b8b18",
   "metadata": {},
   "source": [
    "## **图像金字塔**"
   ]
  },
  {
   "cell_type": "markdown",
   "id": "039b643f-9e06-459c-90a9-399d16e31ce3",
   "metadata": {},
   "source": [
    "* 高斯金字塔\n",
    "* 拉普拉斯金字塔"
   ]
  },
  {
   "cell_type": "markdown",
   "id": "453cf8be-2567-45ef-828f-1fdf430c8dfa",
   "metadata": {},
   "source": [
    "![](./image/P23_1.png)"
   ]
  },
  {
   "cell_type": "markdown",
   "id": "24097346-5075-4e25-97f4-8c26b12d5ef9",
   "metadata": {},
   "source": [
    "**高斯金字塔：向下采样方法（缩小）**"
   ]
  },
  {
   "cell_type": "markdown",
   "id": "886ed2c3-39bf-4c8e-8fe1-127d0e231aac",
   "metadata": {},
   "source": [
    "![](./image/P23_2.png)"
   ]
  },
  {
   "cell_type": "markdown",
   "id": "568512a1-ecaa-4a0c-ac50-a902f17f4030",
   "metadata": {},
   "source": [
    "**高斯金字塔：向上采样方法（放大）**"
   ]
  },
  {
   "cell_type": "markdown",
   "id": "dded7a82-912d-475d-a953-134f66933486",
   "metadata": {},
   "source": [
    "![](./image/P23_3.png)"
   ]
  }
 ],
 "metadata": {
  "kernelspec": {
   "display_name": "Python 3 (ipykernel)",
   "language": "python",
   "name": "python3"
  },
  "language_info": {
   "codemirror_mode": {
    "name": "ipython",
    "version": 3
   },
   "file_extension": ".py",
   "mimetype": "text/x-python",
   "name": "python",
   "nbconvert_exporter": "python",
   "pygments_lexer": "ipython3",
   "version": "3.8.11"
  }
 },
 "nbformat": 4,
 "nbformat_minor": 5
}
