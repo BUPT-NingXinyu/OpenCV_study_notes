{
 "cells": [
  {
   "cell_type": "markdown",
   "id": "6790cbda-8269-4011-a8b0-3b28e47ed4ee",
   "metadata": {},
   "source": [
    "## **图像轮廓**"
   ]
  },
  {
   "cell_type": "markdown",
   "id": "729fe056-8152-4490-899f-9a5091b0f23c",
   "metadata": {},
   "source": [
    "**cv2.findContours(img,mode,method)**\n",
    "\n",
    "mode：轮廓检测模式\n",
    "\n",
    "* RETR_EXTERNAL：只检索最外面的轮廓；\n",
    "* RETR_LIST：检索所有的轮廓，并将其保存在一条链表当中；\n",
    "* RETR_CCOMP：检索所有的轮廓，并将他们组织为两层：顶层是各部分的外部边界，第二层是空洞的边界；\n",
    "* RETR_TREE：检索所有的轮廓，并重构嵌套轮廓的整个层次；\n",
    "\n",
    "method：轮廓逼近方法\n",
    "\n",
    "* CHAIN_APPROX_NONE：以Freeman链码方式输出轮廓，所有其他方法输出多边形（顶点的序列）。\n",
    "* CHAIN_APPROX_SIMPLE：压缩水平的、垂直的和斜的部分，也就是，函数只保留他们的终点部分。"
   ]
  },
  {
   "cell_type": "markdown",
   "id": "70e99740-2b16-415d-9d6d-455fad0620b7",
   "metadata": {},
   "source": [
    "![](./image/P25_1.png)"
   ]
  },
  {
   "cell_type": "markdown",
   "id": "5282d8a0-20fc-40e9-adeb-6e967ec68894",
   "metadata": {},
   "source": [
    "为了更高的准确率，使用二值图像"
   ]
  },
  {
   "cell_type": "code",
   "execution_count": 3,
   "id": "edd11c4c-900c-4159-a9aa-89edea258a62",
   "metadata": {},
   "outputs": [],
   "source": [
    "import cv2\n",
    "\n",
    "def cv_show(img,name):\n",
    "    cv2.imshow(name,img)\n",
    "    cv2.waitKey()\n",
    "    cv2.destroyAllWindows()\n",
    "    \n",
    "img = cv2.imread('./image/P22_2_car.png')\n",
    "gray = cv2.cvtColor(img, cv2.COLOR_BGR2GRAY)\n",
    "ret, thresh = cv2.threshold(gray, 127, 255, cv2.THRESH_BINARY)\n",
    "cv_show(thresh, 'thresh')"
   ]
  },
  {
   "cell_type": "code",
   "execution_count": 7,
   "id": "ac01a6d3-53b0-4fa7-9abf-e5303bc12ace",
   "metadata": {},
   "outputs": [],
   "source": [
    "contours, hierarchy = cv2.findContours(thresh, cv2.RETR_TREE, cv2.CHAIN_APPROX_NONE) # 在opencv-python 4.4.0版本中，此函数返回值只有两个"
   ]
  }
 ],
 "metadata": {
  "kernelspec": {
   "display_name": "Python 3 (ipykernel)",
   "language": "python",
   "name": "python3"
  },
  "language_info": {
   "codemirror_mode": {
    "name": "ipython",
    "version": 3
   },
   "file_extension": ".py",
   "mimetype": "text/x-python",
   "name": "python",
   "nbconvert_exporter": "python",
   "pygments_lexer": "ipython3",
   "version": "3.8.11"
  }
 },
 "nbformat": 4,
 "nbformat_minor": 5
}
