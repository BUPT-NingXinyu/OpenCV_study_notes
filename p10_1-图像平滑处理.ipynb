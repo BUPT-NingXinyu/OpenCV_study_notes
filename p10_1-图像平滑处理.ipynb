{
 "cells": [
  {
   "cell_type": "markdown",
   "id": "c01dd7e5-385b-4e39-ab3e-e00dd7c2887a",
   "metadata": {},
   "source": [
    "## **图像平滑**"
   ]
  },
  {
   "cell_type": "markdown",
   "id": "1978f134-5a2d-48c8-bde9-6b691c1c52d3",
   "metadata": {},
   "source": [
    "![](./image/P10_1.png)"
   ]
  },
  {
   "cell_type": "code",
   "execution_count": 1,
   "id": "e817bc99-d792-4b81-ab0f-5788c579b5be",
   "metadata": {},
   "outputs": [],
   "source": [
    "import cv2\n",
    "\n",
    "img = cv2.imread('./image/P10_2_LenaNoise.png')\n",
    "\n",
    "cv2.imshow('img', img)\n",
    "cv2.waitKey(0)\n",
    "cv2.destroyAllWindows()"
   ]
  },
  {
   "cell_type": "code",
   "execution_count": 2,
   "id": "ab03983b-176b-40c5-8c31-a2c6994d5036",
   "metadata": {},
   "outputs": [],
   "source": [
    "# 均值滤波\n",
    "# 简单的平均卷积操作\n",
    "blur = cv2.blur(img, (3, 3))\n",
    "\n",
    "cv2.imshow('blur', blur)\n",
    "cv2.waitKey(0)\n",
    "cv2.destroyAllWindows()"
   ]
  },
  {
   "cell_type": "code",
   "execution_count": 3,
   "id": "7d4076eb-86c6-4d6b-9c5a-792c5fc26567",
   "metadata": {},
   "outputs": [],
   "source": [
    "# 方框滤波\n",
    "# 基本和均值一样， 可以选择归一化\n",
    "box = cv2.boxFilter(img, -1, (3,3), normalize=True)\n",
    "\n",
    "cv2.imshow('box', box)\n",
    "cv2.waitKey(0)\n",
    "cv2.destroyAllWindows()"
   ]
  },
  {
   "cell_type": "code",
   "execution_count": 4,
   "id": "4e004a0e-f081-4641-a574-eb911746ba00",
   "metadata": {},
   "outputs": [],
   "source": [
    "# 方框滤波\n",
    "# 基本和均值一样， 可以选择归一化\n",
    "box = cv2.boxFilter(img, -1, (3,3), normalize=False)\n",
    "\n",
    "cv2.imshow('box', box)\n",
    "cv2.waitKey(0)\n",
    "cv2.destroyAllWindows()"
   ]
  }
 ],
 "metadata": {
  "kernelspec": {
   "display_name": "Python 3 (ipykernel)",
   "language": "python",
   "name": "python3"
  },
  "language_info": {
   "codemirror_mode": {
    "name": "ipython",
    "version": 3
   },
   "file_extension": ".py",
   "mimetype": "text/x-python",
   "name": "python",
   "nbconvert_exporter": "python",
   "pygments_lexer": "ipython3",
   "version": "3.8.11"
  }
 },
 "nbformat": 4,
 "nbformat_minor": 5
}
