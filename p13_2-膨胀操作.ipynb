{
 "cells": [
  {
   "cell_type": "markdown",
   "id": "488e0eaa-7f65-4728-9aaf-6ab207f45972",
   "metadata": {},
   "source": [
    "## **形态学-膨胀操作**"
   ]
  },
  {
   "cell_type": "code",
   "execution_count": 1,
   "id": "eed21c08-6889-4c48-9e10-e89f1a4fbf87",
   "metadata": {},
   "outputs": [],
   "source": [
    "import cv2\n",
    "\n",
    "img = cv2.imread('./image/P12_1_dige.png')\n",
    "cv2.imshow('img', img)\n",
    "cv2.waitKey(0)\n",
    "cv2.destroyAllWindows()"
   ]
  },
  {
   "cell_type": "code",
   "execution_count": 2,
   "id": "caf83303-551e-48e3-b79a-b984bcfbb8d1",
   "metadata": {},
   "outputs": [],
   "source": [
    "import numpy as np\n",
    "kernel = np.ones((5,5),np.uint8)\n",
    "erosion = cv2.erode(img,kernel,iterations = 1)\n",
    "\n",
    "cv2.imshow('erosion', erosion)\n",
    "cv2.waitKey(0)\n",
    "cv2.destroyAllWindows()"
   ]
  },
  {
   "cell_type": "code",
   "execution_count": 3,
   "id": "856255ee-c489-40be-8b4b-b713c04ab175",
   "metadata": {},
   "outputs": [],
   "source": [
    "kernel = np.ones((3,3),np.uint8)\n",
    "dilate = cv2.dilate(erosion,kernel,iterations = 1)\n",
    "\n",
    "cv2.imshow('dilate',dilate)\n",
    "cv2.waitKey(0)\n",
    "cv2.destroyAllWindows()"
   ]
  },
  {
   "cell_type": "code",
   "execution_count": 4,
   "id": "db9971af-ae8c-446a-95cb-00042f3e7200",
   "metadata": {},
   "outputs": [],
   "source": [
    "pie = cv2.imread('./image/P12_2_pie.png')\n",
    "\n",
    "kernel = np.ones((30,30),np.uint8)\n",
    "dilate_1 = cv2.dilate(pie,kernel,iterations = 1)\n",
    "dilate_2 = cv2.dilate(pie,kernel,iterations = 2)\n",
    "dilate_3 = cv2.dilate(pie,kernel,iterations = 3)\n",
    "res = np.hstack((dilate_1,dilate_2,dilate_3))\n",
    "cv2.imshow('res', res)\n",
    "cv2.waitKey(0)\n",
    "cv2.destroyAllWindows()"
   ]
  }
 ],
 "metadata": {
  "kernelspec": {
   "display_name": "Python 3 (ipykernel)",
   "language": "python",
   "name": "python3"
  },
  "language_info": {
   "codemirror_mode": {
    "name": "ipython",
    "version": 3
   },
   "file_extension": ".py",
   "mimetype": "text/x-python",
   "name": "python",
   "nbconvert_exporter": "python",
   "pygments_lexer": "ipython3",
   "version": "3.8.11"
  }
 },
 "nbformat": 4,
 "nbformat_minor": 5
}
