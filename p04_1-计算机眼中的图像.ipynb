{
 "cells": [
  {
   "cell_type": "markdown",
   "id": "16cea56d-66e9-444c-8863-4950f68b6e80",
   "metadata": {},
   "source": [
    "## **图像基本操作**"
   ]
  },
  {
   "cell_type": "markdown",
   "id": "1a8f7d0e-7dc4-4a27-ad17-c8bf49093925",
   "metadata": {},
   "source": [
    "![basic_img](./image/P4_1.png)"
   ]
  },
  {
   "cell_type": "markdown",
   "id": "aa6dc040-210e-40e5-b2b5-73e5e0016f20",
   "metadata": {},
   "source": [
    "## **数据读取-图像**"
   ]
  },
  {
   "cell_type": "markdown",
   "id": "f0e84875-86cf-4985-bd82-0c772dc136de",
   "metadata": {},
   "source": [
    "* cv2.IMREAD_COLOR：彩色图像\n",
    "* cv2.IMREAD_GRAYSCALE：灰度图像"
   ]
  },
  {
   "cell_type": "code",
   "execution_count": 2,
   "id": "7de4b04c-eff9-4485-a741-69da07a45ec0",
   "metadata": {},
   "outputs": [],
   "source": [
    "import cv2 #OpenCV读取的格式是BGR\n",
    "import matplotlib.pyplot as plot\n",
    "import numpy as np\n",
    "%matplotlib inline\n",
    "\n",
    "img=cv2.imread('./image/P4_2_cat.jpg')"
   ]
  },
  {
   "cell_type": "code",
   "execution_count": 3,
   "id": "30cf8410-6d0b-425b-871e-c212323cdc3b",
   "metadata": {},
   "outputs": [
    {
     "data": {
      "text/plain": [
       "array([[[142, 151, 160],\n",
       "        [146, 155, 164],\n",
       "        [151, 160, 170],\n",
       "        ...,\n",
       "        [156, 172, 185],\n",
       "        [155, 171, 184],\n",
       "        [154, 170, 183]],\n",
       "\n",
       "       [[108, 117, 126],\n",
       "        [112, 123, 131],\n",
       "        [118, 127, 137],\n",
       "        ...,\n",
       "        [155, 171, 184],\n",
       "        [154, 170, 183],\n",
       "        [153, 169, 182]],\n",
       "\n",
       "       [[108, 119, 127],\n",
       "        [110, 123, 131],\n",
       "        [118, 128, 138],\n",
       "        ...,\n",
       "        [156, 169, 183],\n",
       "        [155, 168, 182],\n",
       "        [154, 167, 181]],\n",
       "\n",
       "       ...,\n",
       "\n",
       "       [[162, 186, 198],\n",
       "        [157, 181, 193],\n",
       "        [142, 166, 178],\n",
       "        ...,\n",
       "        [181, 204, 206],\n",
       "        [170, 193, 195],\n",
       "        [149, 172, 174]],\n",
       "\n",
       "       [[140, 164, 176],\n",
       "        [147, 171, 183],\n",
       "        [139, 163, 175],\n",
       "        ...,\n",
       "        [169, 187, 188],\n",
       "        [125, 143, 144],\n",
       "        [106, 124, 125]],\n",
       "\n",
       "       [[154, 178, 190],\n",
       "        [154, 178, 190],\n",
       "        [121, 145, 157],\n",
       "        ...,\n",
       "        [183, 198, 200],\n",
       "        [128, 143, 145],\n",
       "        [127, 142, 144]]], dtype=uint8)"
      ]
     },
     "execution_count": 3,
     "metadata": {},
     "output_type": "execute_result"
    }
   ],
   "source": [
    "img"
   ]
  },
  {
   "cell_type": "code",
   "execution_count": 4,
   "id": "0c2e5443-82e0-4c3d-a410-01924d7f40f0",
   "metadata": {},
   "outputs": [],
   "source": [
    "#图像的显示，也可以创建多个窗口\n",
    "cv2.imshow('image',img)\n",
    "#等待时间，毫秒级，0表示任意键终止\n",
    "cv2.waitKey(0)\n",
    "cv2.destroyAllWindows()"
   ]
  }
 ],
 "metadata": {
  "kernelspec": {
   "display_name": "Python 3 (ipykernel)",
   "language": "python",
   "name": "python3"
  },
  "language_info": {
   "codemirror_mode": {
    "name": "ipython",
    "version": 3
   },
   "file_extension": ".py",
   "mimetype": "text/x-python",
   "name": "python",
   "nbconvert_exporter": "python",
   "pygments_lexer": "ipython3",
   "version": "3.8.11"
  }
 },
 "nbformat": 4,
 "nbformat_minor": 5
}
