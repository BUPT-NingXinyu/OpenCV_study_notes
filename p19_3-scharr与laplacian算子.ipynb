{
 "cells": [
  {
   "cell_type": "markdown",
   "id": "cab0f493-a947-422a-b0cb-a33cf9fa25fa",
   "metadata": {},
   "source": [
    "## **图像梯度-Sharr算子**"
   ]
  },
  {
   "cell_type": "markdown",
   "id": "f629d0a3-22a4-489d-9bd3-a850a1eb6087",
   "metadata": {},
   "source": [
    "![](./image/P19_1.png)"
   ]
  },
  {
   "cell_type": "markdown",
   "id": "01991c6c-e3e5-4aea-9b5b-be66744a8f91",
   "metadata": {},
   "source": [
    "## **图像梯度-laplacian算子**"
   ]
  },
  {
   "cell_type": "markdown",
   "id": "ebcb5a37-fb8e-4466-ae33-a5decb888547",
   "metadata": {},
   "source": [
    "![](./image/P19_2_Laplacian.png)"
   ]
  },
  {
   "cell_type": "code",
   "execution_count": 1,
   "id": "e6d82011-ee24-4ae3-8808-cbffc238c628",
   "metadata": {},
   "outputs": [],
   "source": [
    "import cv2\n",
    "import numpy as np\n",
    "\n",
    "def cv_show(img,name):\n",
    "    cv2.imshow(name,img)\n",
    "    cv2.waitKey()\n",
    "    cv2.destroyAllWindows()\n",
    "\n",
    "#不同算子的差异\n",
    "img = cv2.imread('./image/P18_1_Lena.jpg',cv2.IMREAD_GRAYSCALE)\n",
    "sobelx = cv2.Sobel(img,cv2.CV_64F,1,0,ksize=3)\n",
    "sobelx = cv2.convertScaleAbs(sobelx)\n",
    "sobely = cv2.Sobel(img,cv2.CV_64F,0,1,ksize = 3)\n",
    "sobely = cv2.convertScaleAbs(sobely)\n",
    "sobelxy = cv2.addWeighted(sobelx,0.5,sobely,0.5,0)\n",
    "\n",
    "scharrx = cv2.Scharr(img,cv2.CV_64F,1,0)\n",
    "scharry = cv2.Scharr(img,cv2.CV_64F,0,1)\n",
    "scharrx = cv2.convertScaleAbs(scharrx)\n",
    "scharry = cv2.convertScaleAbs(scharry)\n",
    "scharrxy = cv2.addWeighted(scharrx,0.5,scharry,0.5,0)\n",
    "\n",
    "laplacian = cv2.Laplacian(img,cv2.CV_64F)\n",
    "laplacian = cv2.convertScaleAbs(laplacian)\n",
    "\n",
    "res = np.hstack((sobelxy,scharrxy,laplacian))\n",
    "cv_show(res,'res')"
   ]
  }
 ],
 "metadata": {
  "kernelspec": {
   "display_name": "Python 3 (ipykernel)",
   "language": "python",
   "name": "python3"
  },
  "language_info": {
   "codemirror_mode": {
    "name": "ipython",
    "version": 3
   },
   "file_extension": ".py",
   "mimetype": "text/x-python",
   "name": "python",
   "nbconvert_exporter": "python",
   "pygments_lexer": "ipython3",
   "version": "3.8.11"
  }
 },
 "nbformat": 4,
 "nbformat_minor": 5
}
