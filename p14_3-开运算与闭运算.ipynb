{
 "cells": [
  {
   "cell_type": "markdown",
   "id": "d2ce2a71-0a8f-47b7-90d1-4dfa75559a8c",
   "metadata": {},
   "source": [
    "## **开运算与闭运算**"
   ]
  },
  {
   "cell_type": "code",
   "execution_count": 1,
   "id": "a9fe1751-1e14-4a44-88bc-a844ccd3de6b",
   "metadata": {},
   "outputs": [],
   "source": [
    "import cv2\n",
    "import numpy as np\n",
    "\n",
    "# 开：先腐蚀，再膨胀\n",
    "img = cv2.imread('./image/P12_1_dige.png')\n",
    "\n",
    "kernel = np.ones((5,5),np.uint8)\n",
    "opening = cv2.morphologyEx(img, cv2.MORPH_OPEN, kernel)\n",
    "\n",
    "cv2.imshow('opening', opening)\n",
    "cv2.waitKey(0)\n",
    "cv2.destroyAllWindows()"
   ]
  },
  {
   "cell_type": "code",
   "execution_count": 2,
   "id": "39aeace1-8168-4519-b97c-4fae50948727",
   "metadata": {},
   "outputs": [],
   "source": [
    "# 闭：先膨胀， 在腐蚀\n",
    "img = cv2.imread('./image/P12_1_dige.png')\n",
    "\n",
    "kernel = np.ones((5,5),np.uint8)\n",
    "closing = cv2.morphologyEx(img, cv2.MORPH_CLOSE, kernel)\n",
    "\n",
    "cv2.imshow('closing', closing)\n",
    "cv2.waitKey(0)\n",
    "cv2.destroyAllWindows()"
   ]
  }
 ],
 "metadata": {
  "kernelspec": {
   "display_name": "Python 3 (ipykernel)",
   "language": "python",
   "name": "python3"
  },
  "language_info": {
   "codemirror_mode": {
    "name": "ipython",
    "version": 3
   },
   "file_extension": ".py",
   "mimetype": "text/x-python",
   "name": "python",
   "nbconvert_exporter": "python",
   "pygments_lexer": "ipython3",
   "version": "3.8.11"
  }
 },
 "nbformat": 4,
 "nbformat_minor": 5
}
