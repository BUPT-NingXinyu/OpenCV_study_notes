{
 "cells": [
  {
   "cell_type": "code",
   "execution_count": 1,
   "id": "02b00899-5c85-4b55-9bb0-563789515ad7",
   "metadata": {},
   "outputs": [
    {
     "name": "stdout",
     "output_type": "stream",
     "text": [
      "(442, 340, 3)\n"
     ]
    }
   ],
   "source": [
    "import cv2\n",
    "\n",
    "def cv_show(img,name):\n",
    "    cv2.imshow(name,img)\n",
    "    cv2.waitKey()\n",
    "    cv2.destroyAllWindows()\n",
    "    \n",
    "img = cv2.imread('./image/P24_1_AM.png')\n",
    "cv_show(img,'img')\n",
    "print(img.shape)"
   ]
  },
  {
   "cell_type": "code",
   "execution_count": 2,
   "id": "e0917a87-65d8-453b-9841-225586dad960",
   "metadata": {},
   "outputs": [
    {
     "name": "stdout",
     "output_type": "stream",
     "text": [
      "(884, 680, 3)\n"
     ]
    }
   ],
   "source": [
    "up = cv2.pyrUp(img)\n",
    "cv_show(up,'up')\n",
    "print(up.shape)"
   ]
  },
  {
   "cell_type": "code",
   "execution_count": 3,
   "id": "3f1434ca-8f6b-4776-94ba-7bc1317ffb09",
   "metadata": {},
   "outputs": [
    {
     "name": "stdout",
     "output_type": "stream",
     "text": [
      "(221, 170, 3)\n"
     ]
    }
   ],
   "source": [
    "down = cv2.pyrDown(img)\n",
    "cv_show(down,'down')\n",
    "print(down.shape)"
   ]
  },
  {
   "cell_type": "code",
   "execution_count": 4,
   "id": "6bf0170f-f599-4955-83c9-c4badd8848ce",
   "metadata": {},
   "outputs": [
    {
     "name": "stdout",
     "output_type": "stream",
     "text": [
      "(1768, 1360, 3)\n"
     ]
    }
   ],
   "source": [
    "up2 = cv2.pyrUp(up)\n",
    "cv_show(up2,'up2')\n",
    "print(up2.shape)"
   ]
  },
  {
   "cell_type": "code",
   "execution_count": 5,
   "id": "49e2e974-dcf8-4200-b98d-59e0d060db36",
   "metadata": {},
   "outputs": [],
   "source": [
    "up = cv2.pyrUp(img)\n",
    "up_down = cv2.pyrDown(up)\n",
    "cv_show(up_down,'up_down')"
   ]
  },
  {
   "cell_type": "code",
   "execution_count": 7,
   "id": "604184f3-3020-4bb0-bf35-21c96ad9a48d",
   "metadata": {},
   "outputs": [],
   "source": [
    "import numpy as np\n",
    "\n",
    "cv_show(np.hstack((img,up_down)),'up_down')"
   ]
  },
  {
   "cell_type": "markdown",
   "id": "8d03c05b-bfa2-474d-80f8-972636184441",
   "metadata": {},
   "source": [
    "**拉普拉斯金字塔**"
   ]
  },
  {
   "cell_type": "markdown",
   "id": "20fd98e7-63ca-49ed-b410-cbab4a14abdb",
   "metadata": {},
   "source": [
    "![](./image/P24_2.png)"
   ]
  },
  {
   "cell_type": "code",
   "execution_count": 8,
   "id": "916bfc1f-18b8-4dcb-886f-c91255b66a1a",
   "metadata": {},
   "outputs": [],
   "source": [
    "down = cv2.pyrDown(img)\n",
    "down_up = cv2.pyrUp(down)\n",
    "l_1 = img-down_up\n",
    "cv_show(l_1,'l_1')"
   ]
  }
 ],
 "metadata": {
  "kernelspec": {
   "display_name": "Python 3 (ipykernel)",
   "language": "python",
   "name": "python3"
  },
  "language_info": {
   "codemirror_mode": {
    "name": "ipython",
    "version": 3
   },
   "file_extension": ".py",
   "mimetype": "text/x-python",
   "name": "python",
   "nbconvert_exporter": "python",
   "pygments_lexer": "ipython3",
   "version": "3.8.11"
  }
 },
 "nbformat": 4,
 "nbformat_minor": 5
}
