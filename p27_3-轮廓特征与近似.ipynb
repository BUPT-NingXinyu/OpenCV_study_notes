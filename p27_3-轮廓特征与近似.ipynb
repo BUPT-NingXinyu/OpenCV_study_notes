{
 "cells": [
  {
   "cell_type": "markdown",
   "id": "780ac7b0-8aa4-4e6b-b450-91773f528074",
   "metadata": {},
   "source": [
    "**轮廓特征**"
   ]
  },
  {
   "cell_type": "code",
   "execution_count": 1,
   "id": "66d172b5-1056-4106-b4ae-3d9844f0a39d",
   "metadata": {},
   "outputs": [],
   "source": [
    "import cv2\n",
    "import numpy as np\n",
    "\n",
    "def cv_show(img,name):\n",
    "    cv2.imshow(name,img)\n",
    "    cv2.waitKey()\n",
    "    cv2.destroyAllWindows()\n",
    "    \n",
    "img = cv2.imread('./image/P25_2_contours.png')\n",
    "gray = cv2.cvtColor(img, cv2.COLOR_BGR2GRAY)\n",
    "ret, thresh = cv2.threshold(gray, 127, 255, cv2.THRESH_BINARY)\n",
    "cv_show(thresh, 'thresh')\n",
    "\n",
    "contours, hierarchy = cv2.findContours(thresh, cv2.RETR_TREE, cv2.CHAIN_APPROX_NONE) # 在opencv-python 4.4.0版本中，此函数返回值只有两个"
   ]
  },
  {
   "cell_type": "code",
   "execution_count": 2,
   "id": "4fab8df3-a49b-4264-9a61-1e7a48e96d50",
   "metadata": {},
   "outputs": [],
   "source": [
    "cnt = contours[0]"
   ]
  },
  {
   "cell_type": "code",
   "execution_count": 3,
   "id": "1c90021f-5214-45ca-b4a1-c6b1cc0006d5",
   "metadata": {},
   "outputs": [
    {
     "data": {
      "text/plain": [
       "8500.5"
      ]
     },
     "execution_count": 3,
     "metadata": {},
     "output_type": "execute_result"
    }
   ],
   "source": [
    "# 面积\n",
    "cv2.contourArea(cnt)"
   ]
  },
  {
   "cell_type": "code",
   "execution_count": 4,
   "id": "c0276083-7d11-4936-b3a9-43301eaab40f",
   "metadata": {},
   "outputs": [
    {
     "data": {
      "text/plain": [
       "437.9482651948929"
      ]
     },
     "execution_count": 4,
     "metadata": {},
     "output_type": "execute_result"
    }
   ],
   "source": [
    "# 周长，True表示闭合的\n",
    "cv2.arcLength(cnt,True)"
   ]
  },
  {
   "cell_type": "markdown",
   "id": "8692663b-d946-463d-b854-cc1cc40c89cc",
   "metadata": {},
   "source": [
    "**轮廓近似**"
   ]
  },
  {
   "cell_type": "markdown",
   "id": "ece95a5c-780e-4193-8798-844100763fa2",
   "metadata": {},
   "source": [
    "![](./image/P27_1.png)"
   ]
  },
  {
   "cell_type": "code",
   "execution_count": 5,
   "id": "1e9dce9f-a28d-4200-9721-5d67de8d40d6",
   "metadata": {},
   "outputs": [],
   "source": [
    "img = cv2.imread('./image/P27_2_contours2.png')\n",
    "\n",
    "gray = cv2.cvtColor(img, cv2.COLOR_BGR2GRAY)\n",
    "ret, thresh = cv2.threshold(gray, 127, 255, cv2.THRESH_BINARY)\n",
    "contours, hierarchy = cv2.findContours(thresh, cv2.RETR_TREE, cv2.CHAIN_APPROX_NONE) # 在opencv-python 4.4.0版本中，此函数返回值只有两个\n",
    "cnt = contours[0]\n",
    "\n",
    "draw_img = img.copy()\n",
    "res = cv2.drawContours(draw_img, [cnt], -1, (0,0,255), 2)\n",
    "cv_show(res, 'res')"
   ]
  },
  {
   "cell_type": "code",
   "execution_count": 9,
   "id": "8e290b48-1cc7-49d7-a4b7-c581faf35d1d",
   "metadata": {},
   "outputs": [],
   "source": [
    "epsilon = 0.15*cv2.arcLength(cnt, True)\n",
    "approx = cv2.approxPolyDP(cnt, epsilon, True)\n",
    "\n",
    "draw_img = img.copy()\n",
    "res = cv2.drawContours(draw_img, [approx], -1, (0,0,255), 2)\n",
    "cv_show(res, 'res')"
   ]
  },
  {
   "cell_type": "markdown",
   "id": "160d1ee6-d3c1-4a56-a7c0-f091bffe2735",
   "metadata": {},
   "source": [
    "**边界矩形**"
   ]
  },
  {
   "cell_type": "code",
   "execution_count": 10,
   "id": "d5f1e792-ae3f-4812-8785-a1632f6282f0",
   "metadata": {},
   "outputs": [],
   "source": [
    "img = cv2.imread('./image/P25_2_contours.png')\n",
    "\n",
    "gray = cv2.cvtColor(img, cv2.COLOR_BGR2GRAY)\n",
    "ret, thresh = cv2.threshold(gray, 127, 255, cv2.THRESH_BINARY)\n",
    "contours, hierarchy = cv2.findContours(thresh, cv2.RETR_TREE, cv2.CHAIN_APPROX_NONE) # 在opencv-python 4.4.0版本中，此函数返回值只有两个\n",
    "cnt = contours[0]\n",
    "\n",
    "x, y, w, h = cv2.boundingRect(cnt)\n",
    "img = cv2.rectangle(img, (x,y), (x+w, y+h),(0,255,0),2)\n",
    "cv_show(img, 'img')"
   ]
  },
  {
   "cell_type": "code",
   "execution_count": 11,
   "id": "8a5400b9-ae33-4466-883e-f01559609f96",
   "metadata": {},
   "outputs": [
    {
     "name": "stdout",
     "output_type": "stream",
     "text": [
      "轮廓面积与边界矩形面积比 0.5154317244724715\n"
     ]
    }
   ],
   "source": [
    "area = cv2.contourArea(cnt)\n",
    "x, y, w, h = cv2.boundingRect(cnt)\n",
    "rect_area = w*h\n",
    "extent = float(area)/rect_area\n",
    "print('轮廓面积与边界矩形面积比', extent)"
   ]
  },
  {
   "cell_type": "markdown",
   "id": "07246aa2-7ff1-4be4-b062-f2fa0be39405",
   "metadata": {},
   "source": [
    "**外接圆**"
   ]
  },
  {
   "cell_type": "code",
   "execution_count": 12,
   "id": "3b938327-4ce6-4502-a82f-d48b451657bc",
   "metadata": {},
   "outputs": [],
   "source": [
    "(x,y),radius = cv2.minEnclosingCircle(cnt)\n",
    "center = (int(x),int(y))\n",
    "radius = int(radius)\n",
    "img = cv2.circle(img, center, radius, (0,255,0),2)\n",
    "cv_show(img, 'img')"
   ]
  }
 ],
 "metadata": {
  "kernelspec": {
   "display_name": "Python 3 (ipykernel)",
   "language": "python",
   "name": "python3"
  },
  "language_info": {
   "codemirror_mode": {
    "name": "ipython",
    "version": 3
   },
   "file_extension": ".py",
   "mimetype": "text/x-python",
   "name": "python",
   "nbconvert_exporter": "python",
   "pygments_lexer": "ipython3",
   "version": "3.8.11"
  }
 },
 "nbformat": 4,
 "nbformat_minor": 5
}
