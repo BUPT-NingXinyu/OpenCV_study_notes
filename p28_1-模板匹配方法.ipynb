{
 "cells": [
  {
   "cell_type": "markdown",
   "id": "31374504-ab89-466c-ac42-a7950b4298dd",
   "metadata": {},
   "source": [
    "**模板匹配**"
   ]
  },
  {
   "cell_type": "markdown",
   "id": "34befd3b-7f00-4a75-81f8-03222206df26",
   "metadata": {},
   "source": [
    "模板匹配和卷积原理很像，模板在原图像上从原点开始滑动，计算模板与（图像被模板覆盖的地方）的差别程度，这个差别程度的计算方法在opencv里有6种，然后将每次计算的结果放入一个矩阵里，作为结果输出。假如原图形是AxB大小，而模板是axb大小，则输出结果的矩阵是(A-a+1)x(B-b+1)。"
   ]
  },
  {
   "cell_type": "code",
   "execution_count": 1,
   "id": "5381d125-4768-4ba4-bda0-23e6c27e8d09",
   "metadata": {},
   "outputs": [],
   "source": [
    "import cv2\n",
    "\n",
    "# 模板匹配\n",
    "img = cv2.imread('./image/P18_1_Lena.jpg', 0)\n",
    "template = cv2.imread('./image/P28_1_Face.jpg', 0)\n",
    "h, w = template.shape[:2]"
   ]
  },
  {
   "cell_type": "code",
   "execution_count": 2,
   "id": "cc486033-0811-4d96-9c92-2326b3c855ed",
   "metadata": {},
   "outputs": [
    {
     "data": {
      "text/plain": [
       "(263, 263)"
      ]
     },
     "execution_count": 2,
     "metadata": {},
     "output_type": "execute_result"
    }
   ],
   "source": [
    "img.shape"
   ]
  },
  {
   "cell_type": "code",
   "execution_count": 3,
   "id": "216dfa5f-861c-4ae4-b51e-0d0633d2940c",
   "metadata": {},
   "outputs": [
    {
     "data": {
      "text/plain": [
       "(110, 85)"
      ]
     },
     "execution_count": 3,
     "metadata": {},
     "output_type": "execute_result"
    }
   ],
   "source": [
    "template.shape"
   ]
  },
  {
   "cell_type": "markdown",
   "id": "c9a7011a-6170-4eb7-9089-aa56e131f44f",
   "metadata": {},
   "source": [
    "* TM_SQDIFF：计算平方不同，计算出来的值越小，越相关\n",
    "* TM_CCORR：计算相关性，计算出来的值越大，越相关\n",
    "* TM_CCOEFF：计算相关系数，计算出来的值越大，越相关\n",
    "* TM_SQDIFF_NORMED：计算归一化平方不同，计算出来的值越接近0，越相关\n",
    "* TM_CCORR_NORMED：计算归一化相关性，计算出来的值越接近1，越相关\n",
    "* TM_CCOEFF_NORMED：计算归一化相关系数，计算出来的值越接近1，越相关\n",
    "\n",
    "公式：https://docs.opencv.org/4.4.0/df/dfb/group__imgproc__object.html#gga3a7850640f1fe1f58fe91a2d7583695dab65c042ed62c9e9e095a1e7e41fe2773"
   ]
  },
  {
   "cell_type": "code",
   "execution_count": 4,
   "id": "c6adcdee-8d95-4440-9081-9c2a8fad09e8",
   "metadata": {},
   "outputs": [],
   "source": [
    "methods = ['cv2.TM_CCOEFF','cv2.TM_CCOEFF_NORMED','cv2.TM_CCORR',\n",
    "           'cv2.TM_CCORR_NORMED','cv2.TM_SQDIFF','cv2.TM_SQDIFF_NORMED']"
   ]
  },
  {
   "cell_type": "code",
   "execution_count": 5,
   "id": "cc8f23db-2cff-403d-b71e-a031e18c856c",
   "metadata": {},
   "outputs": [
    {
     "data": {
      "text/plain": [
       "(154, 179)"
      ]
     },
     "execution_count": 5,
     "metadata": {},
     "output_type": "execute_result"
    }
   ],
   "source": [
    "res = cv2.matchTemplate(img, template, 1)\n",
    "res.shape"
   ]
  },
  {
   "cell_type": "code",
   "execution_count": 6,
   "id": "f537ed38-89fd-476a-90b8-6539a66b56d6",
   "metadata": {},
   "outputs": [],
   "source": [
    "min_val, max_val, min_loc, max_loc = cv2.minMaxLoc(res)"
   ]
  },
  {
   "cell_type": "code",
   "execution_count": 7,
   "id": "7ca65e2f-c0b4-481c-970a-1f69daaf89bc",
   "metadata": {},
   "outputs": [
    {
     "data": {
      "text/plain": [
       "0.0002352227020310238"
      ]
     },
     "execution_count": 7,
     "metadata": {},
     "output_type": "execute_result"
    }
   ],
   "source": [
    "min_val"
   ]
  },
  {
   "cell_type": "code",
   "execution_count": 8,
   "id": "12ca9d44-f7ea-468c-b836-58a117e9ae50",
   "metadata": {},
   "outputs": [
    {
     "data": {
      "text/plain": [
       "0.5173118114471436"
      ]
     },
     "execution_count": 8,
     "metadata": {},
     "output_type": "execute_result"
    }
   ],
   "source": [
    "max_val"
   ]
  },
  {
   "cell_type": "code",
   "execution_count": 9,
   "id": "ad34d0c3-51a0-4c0b-b272-081ede0ba78a",
   "metadata": {},
   "outputs": [
    {
     "data": {
      "text/plain": [
       "(107, 89)"
      ]
     },
     "execution_count": 9,
     "metadata": {},
     "output_type": "execute_result"
    }
   ],
   "source": [
    "min_loc"
   ]
  },
  {
   "cell_type": "code",
   "execution_count": 10,
   "id": "4d98ce42-a04f-4c63-8e10-c32c3a1bf24b",
   "metadata": {},
   "outputs": [
    {
     "data": {
      "text/plain": [
       "(39, 153)"
      ]
     },
     "execution_count": 10,
     "metadata": {},
     "output_type": "execute_result"
    }
   ],
   "source": [
    "max_loc"
   ]
  }
 ],
 "metadata": {
  "kernelspec": {
   "display_name": "Python 3 (ipykernel)",
   "language": "python",
   "name": "python3"
  },
  "language_info": {
   "codemirror_mode": {
    "name": "ipython",
    "version": 3
   },
   "file_extension": ".py",
   "mimetype": "text/x-python",
   "name": "python",
   "nbconvert_exporter": "python",
   "pygments_lexer": "ipython3",
   "version": "3.8.11"
  }
 },
 "nbformat": 4,
 "nbformat_minor": 5
}
